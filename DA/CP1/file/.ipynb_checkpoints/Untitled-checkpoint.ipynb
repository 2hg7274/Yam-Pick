{
 "cells": [
  {
   "cell_type": "code",
   "execution_count": 1,
   "id": "6e55736e",
   "metadata": {},
   "outputs": [],
   "source": [
    "import pandas as pd\n",
    "import os"
   ]
  },
  {
   "cell_type": "code",
   "execution_count": 3,
   "id": "2922eba6",
   "metadata": {},
   "outputs": [
    {
     "ename": "NameError",
     "evalue": "name 'rnage' is not defined",
     "output_type": "error",
     "traceback": [
      "\u001b[0;31m---------------------------------------------------------------------------\u001b[0m",
      "\u001b[0;31mNameError\u001b[0m                                 Traceback (most recent call last)",
      "Input \u001b[0;32mIn [3]\u001b[0m, in \u001b[0;36m<cell line: 1>\u001b[0;34m()\u001b[0m\n\u001b[0;32m----> 1\u001b[0m year_range \u001b[38;5;241m=\u001b[39m [x \u001b[38;5;28;01mfor\u001b[39;00m x \u001b[38;5;129;01min\u001b[39;00m \u001b[43mrnage\u001b[49m(\u001b[38;5;241m2008\u001b[39m, \u001b[38;5;241m2021\u001b[39m)]\n\u001b[1;32m      2\u001b[0m year_range\n",
      "\u001b[0;31mNameError\u001b[0m: name 'rnage' is not defined"
     ]
    }
   ],
   "source": [
    "year_range = [x for x in range(2008, 2021)]\n",
    "year_range"
   ]
  },
  {
   "cell_type": "code",
   "execution_count": 2,
   "id": "27bd6fcf",
   "metadata": {},
   "outputs": [
    {
     "name": "stdout",
     "output_type": "stream",
     "text": [
      "['.DS_Store', '식품군별_평균_섭취량_연령층별(남자)_2017.xls', '식품군별_평균_섭취량_연령층별(남자)_2016.xls', '식품군별_평균_섭취량_연령층별(남자)_2014.xls', '식품군별_평균_섭취량_연령층별(남자)_2015.xls', '식품군별_평균_섭취량_연령층별(남자)_2011.xls', '식품군별_평균_섭취량_연령층별(남자)_2010.xls', '식품군별_평균_섭취량_연령층별(남자)_2012.xls', '식품군별_평균_섭취량_연령층별(남자)_2013.xls', '식품군별_평균_섭취량_연령층별(남자)_2009.xls', '식품군별_평균_섭취량_연령층별(남자)_2020.xls', '식품군별_평균_섭취량_연령층별(남자)_2008.xls', '식품군별_평균_섭취량_연령층별(남자)_2018.xls', '식품군별_평균_섭취량_연령층별(남자)_2019.xls']\n"
     ]
    }
   ],
   "source": [
    "year_range = [x for x in rnage(2008, 2021)]\n",
    "\n",
    "os.listdir(f'/Users/simcheol-u/Desktop/남자/식품군별_평균_섭취량_연령층별(남자)_{year_range}')\n",
    "print(food_male)"
   ]
  },
  {
   "cell_type": "code",
   "execution_count": null,
   "id": "22de20a2",
   "metadata": {},
   "outputs": [],
   "source": []
  }
 ],
 "metadata": {
  "kernelspec": {
   "display_name": "Python 3 (ipykernel)",
   "language": "python",
   "name": "python3"
  },
  "language_info": {
   "codemirror_mode": {
    "name": "ipython",
    "version": 3
   },
   "file_extension": ".py",
   "mimetype": "text/x-python",
   "name": "python",
   "nbconvert_exporter": "python",
   "pygments_lexer": "ipython3",
   "version": "3.9.12"
  }
 },
 "nbformat": 4,
 "nbformat_minor": 5
}
